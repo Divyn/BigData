{
 "cells": [
  {
   "cell_type": "markdown",
   "metadata": {},
   "source": [
    "PROBLEM 1\n",
    "\n",
    "a={1,1,0,1,1,0,1,1}\n",
    "b={0,1,1,1,1,1,1,0}\n",
    "c={1,0,1,1,0,1,1,1}\n",
    "\n",
    "(a intersect b)=4\n",
    "(b intersect c)=4\n",
    "(c intersect a)=4\n",
    "\n",
    "(a union b)=8\n",
    "(b union c)=8\n",
    "(a union c)=8\n",
    "\n",
    "\n",
    "JI is Jaccard Index\n",
    "\n",
    "JI(a,b)=0.5\n",
    "JI(b,c)=0.5\n",
    "JI(a,c)=0.5\n",
    "\n",
    "JD Jaccard Distance\n",
    "\n",
    "JD(a,b)=0.5\n",
    "JD(b,c)=0.5\n",
    "JD(c,a)=0.5\n",
    "\n",
    "Cosine Distance\n",
    "\n",
    "CD(a,b)=4/6 = 2/3\n",
    "CD(b,c) = 4/6=2/3\n",
    "CD(a,c)=4/6=2/3\n",
    "\n"
   ]
  },
  {
   "cell_type": "markdown",
   "metadata": {},
   "source": [
    "Treat ratings of 3, 4, and 5 as 1 and 1, 2, and blank as 0. Compute the Jaccard distance between each pair of users.\n",
    "\n",
    "a={1,1,0,1,0,0,1,0}\n",
    "b={0,1,1,1,0,0,0,0}\n",
    "c={0,0,0,1,0,1,1,1}\n",
    "\n",
    "(a intersect b)=2\n",
    "(b intersect c)=1\n",
    "(c intersect a)=2\n",
    "\n",
    "(a union b)=5\n",
    "(b union c)=6\n",
    "(a union c)=6\n",
    "\n",
    "\n",
    "JI is Jaccard Index\n",
    "\n",
    "JI(a,b)=0.4\n",
    "JI(b,c)=0.167\n",
    "JI(a,c)=0.667\n",
    "\n",
    "JD Jaccard Distance\n",
    "\n",
    "JD(a,b)=0.6\n",
    "JD(b,c)=0.833\n",
    "JD(c,a)=0.333\n"
   ]
  },
  {
   "cell_type": "markdown",
   "metadata": {},
   "source": [
    "Normalizing matrix\n",
    "\n",
    "{ 0.5 0.5 -0.5 0.5 -0.5 -0.5 0.5 -0.5\n",
    "-0.375 0.625 .625 0.625 -0.375 -0.375 -0.375 \n",
    "-0.5 -0.5 -0.5 0.5 -0.5 0.5 0.5 0.5 }\n",
    "\n",
    "\n",
    "Cosine Distance\n",
    "\n",
    "CD(a,b)=0.1725\n",
    "CD(b,c)= −0.2581\n",
    "CD(a,c)= 0.1336"
   ]
  },
  {
   "cell_type": "markdown",
   "metadata": {},
   "source": [
    "PROBLEM 2"
   ]
  },
  {
   "cell_type": "markdown",
   "metadata": {},
   "source": [
    "Load the Movielens 100k dataset (ml-100k.zip) into Python using Pandas dataframes. Build a user profile on unscaled data for both users 200 and 15, and calculate the cosine similarity and distance between the user’s preferences and the item/movie 95. Which user would a recommender system suggest this movie to? dataset: https://grouplens.org/datasets/movielens/100k/"
   ]
  },
  {
   "cell_type": "code",
   "execution_count": 1,
   "metadata": {},
   "outputs": [],
   "source": [
    "import pandas as pd\n"
   ]
  },
  {
   "cell_type": "code",
   "execution_count": 2,
   "metadata": {},
   "outputs": [],
   "source": [
    "user_ratings_lab = [\"user_id\", \"item_id\", \"rating\", \"timestamp\"]\n",
    "user_ratings = pd.read_csv('ml/u.data', sep='\\t', header = None, names = user_ratings_lab,encoding='latin-1')\n",
    "movie_lab = ['movie id', 'movie title', 'release date', 'video release date', 'IMDb URL', 'unknown', 'Action', 'Adventure', 'Animation', \"Children's\", 'Comedy', 'Crime', 'Documentary', 'Drama', 'Fantasy', 'Film-Noir', 'Horror', 'Musical', 'Mystery', 'Romance', 'Sci-Fi', 'Thriller', 'War', 'Western']\n",
    "movies = pd.read_csv('ml/u.item', sep = '|', header = None, names = movie_lab,encoding='latin-1')\n",
    "user_lab = [\"user_id\", \"age\", \"gender\", \"occupation\", \"zipcode\"]\n",
    "users = pd.read_csv('ml/u.user', sep = '|', header = None, names = user_lab,encoding='latin-1')\n"
   ]
  },
  {
   "cell_type": "code",
   "execution_count": 3,
   "metadata": {},
   "outputs": [
    {
     "name": "stdout",
     "output_type": "stream",
     "text": [
      "<class 'pandas.core.frame.DataFrame'>\n",
      "RangeIndex: 100000 entries, 0 to 99999\n",
      "Data columns (total 4 columns):\n",
      "user_id      100000 non-null int64\n",
      "item_id      100000 non-null int64\n",
      "rating       100000 non-null int64\n",
      "timestamp    100000 non-null int64\n",
      "dtypes: int64(4)\n",
      "memory usage: 3.1 MB\n"
     ]
    }
   ],
   "source": [
    "user_ratings.info()\n"
   ]
  },
  {
   "cell_type": "code",
   "execution_count": 4,
   "metadata": {},
   "outputs": [
    {
     "name": "stdout",
     "output_type": "stream",
     "text": [
      "<class 'pandas.core.frame.DataFrame'>\n",
      "RangeIndex: 1682 entries, 0 to 1681\n",
      "Data columns (total 24 columns):\n",
      "movie id              1682 non-null int64\n",
      "movie title           1682 non-null object\n",
      "release date          1681 non-null object\n",
      "video release date    0 non-null float64\n",
      "IMDb URL              1679 non-null object\n",
      "unknown               1682 non-null int64\n",
      "Action                1682 non-null int64\n",
      "Adventure             1682 non-null int64\n",
      "Animation             1682 non-null int64\n",
      "Children's            1682 non-null int64\n",
      "Comedy                1682 non-null int64\n",
      "Crime                 1682 non-null int64\n",
      "Documentary           1682 non-null int64\n",
      "Drama                 1682 non-null int64\n",
      "Fantasy               1682 non-null int64\n",
      "Film-Noir             1682 non-null int64\n",
      "Horror                1682 non-null int64\n",
      "Musical               1682 non-null int64\n",
      "Mystery               1682 non-null int64\n",
      "Romance               1682 non-null int64\n",
      "Sci-Fi                1682 non-null int64\n",
      "Thriller              1682 non-null int64\n",
      "War                   1682 non-null int64\n",
      "Western               1682 non-null int64\n",
      "dtypes: float64(1), int64(20), object(3)\n",
      "memory usage: 315.5+ KB\n"
     ]
    }
   ],
   "source": [
    "movies.info()"
   ]
  },
  {
   "cell_type": "code",
   "execution_count": 5,
   "metadata": {},
   "outputs": [],
   "source": [
    "def profile_user():\n",
    "    rec = 0\n",
    "    genres = movie_lab[6:]\n",
    "    genre_ratings=[]\n",
    "    genre_counts=[]\n",
    "    user_ids = [200, 15]\n",
    "    profile= user_ids\n",
    "    lis=[]\n",
    "\n",
    "    for i in user_ids:\n",
    "        profile = [i]\n",
    "        genre_ratings = [0]*len(genres)\n",
    "        genre_counts = [0]*len(genres)\n",
    "        per_user_rating=user_ratings[user_ratings['user_id']==i]\n",
    "        movie_ids = per_user_rating['item_id']\n",
    "        movie_ratings = per_user_rating['rating']\n",
    "        for i, r in zip(movie_ids, movie_ratings):\n",
    "            movie = movies[movies['movie id']==i]\n",
    "            for k, j in enumerate(genres):\n",
    "                if movie[j].iloc[0] == 1:\n",
    "                    genre_ratings[k] += r\n",
    "                    genre_counts[k] += 1\n",
    "        rec += 1\n",
    "        genre_ratings = [round(i/j, 2) if j != 0 else 0 for i,j in zip(genre_ratings, genre_counts)]\n",
    "        profile.extend(genre_ratings)\n",
    "        lis.append(profile)\n",
    "        \n",
    "    return  lis\n",
    "        \n"
   ]
  },
  {
   "cell_type": "code",
   "execution_count": 6,
   "metadata": {},
   "outputs": [],
   "source": [
    "\n",
    "columns =['User_id','Action', 'Adventure', 'Animation', \"Children's\", 'Comedy', 'Crime', 'Documentary', 'Drama', 'Fantasy', 'Film-Noir', 'Horror', 'Musical', 'Mystery', 'Romance', 'Sci-Fi', 'Thriller', 'War', 'Western'] "
   ]
  },
  {
   "cell_type": "code",
   "execution_count": 7,
   "metadata": {},
   "outputs": [
    {
     "name": "stdout",
     "output_type": "stream",
     "text": [
      "   User_id  Action  Adventure  Animation  Children's  Comedy  Crime  \\\n",
      "0      200    4.20       4.12       4.12        3.95    3.71    3.7   \n",
      "1       15    2.68       3.00       1.00        1.86    2.68    2.5   \n",
      "\n",
      "   Documentary  Drama  Fantasy  Film-Noir  Horror  Musical  Mystery  Romance  \\\n",
      "0          2.0   4.11     4.10        5.0     4.4     4.24     3.75     4.11   \n",
      "1          0.0   3.19     3.33        3.0     1.0     2.00     2.43     3.44   \n",
      "\n",
      "   Sci-Fi  Thriller   War  Western  \n",
      "0    4.37      4.02  4.29      4.0  \n",
      "1    2.67      2.36  3.40      0.0  \n"
     ]
    }
   ],
   "source": [
    "p=profile_user()\n",
    "\n",
    "p=pd.DataFrame(p)\n",
    "p.columns=columns\n",
    "print(p)"
   ]
  },
  {
   "cell_type": "code",
   "execution_count": 8,
   "metadata": {},
   "outputs": [],
   "source": [
    "from scipy.spatial.distance import cosine\n"
   ]
  },
  {
   "cell_type": "code",
   "execution_count": 9,
   "metadata": {},
   "outputs": [],
   "source": [
    "#calculate the cosine similarity and distance between the user’s preferences and the item/movie 95"
   ]
  },
  {
   "cell_type": "code",
   "execution_count": 10,
   "metadata": {},
   "outputs": [],
   "source": [
    "genres=movie_lab[6:]\n",
    "user200=cosine(movies[movies['movie id']==95][genres].values[0], p[genres].values[0])"
   ]
  },
  {
   "cell_type": "code",
   "execution_count": 11,
   "metadata": {},
   "outputs": [
    {
     "name": "stdout",
     "output_type": "stream",
     "text": [
      "cosine similarity between user 200 and movie 97 : 0.5338775894666912\n"
     ]
    }
   ],
   "source": [
    "print(\"cosine similarity between user 200 and movie 97 :\",user200)"
   ]
  },
  {
   "cell_type": "code",
   "execution_count": 12,
   "metadata": {},
   "outputs": [
    {
     "name": "stdout",
     "output_type": "stream",
     "text": [
      "cosine similarity between user 15 and movie 97 : 0.6427084353986308\n"
     ]
    }
   ],
   "source": [
    "user15=cosine(movies[movies['movie id']==95][genres].values[0], p[genres].values[1])\n",
    "print(\"cosine similarity between user 15 and movie 97 :\",user15)"
   ]
  },
  {
   "cell_type": "markdown",
   "metadata": {},
   "source": [
    "Recommend movie 97 to user 15"
   ]
  },
  {
   "cell_type": "markdown",
   "metadata": {},
   "source": [
    "QUESTION 3\n",
    "\n",
    "To predict which age group the user who likes \"Speed\" will belong to and to suggest a list of some other movies he might like"
   ]
  },
  {
   "cell_type": "code",
   "execution_count": 13,
   "metadata": {},
   "outputs": [
    {
     "data": {
      "text/html": [
       "<div>\n",
       "<style scoped>\n",
       "    .dataframe tbody tr th:only-of-type {\n",
       "        vertical-align: middle;\n",
       "    }\n",
       "\n",
       "    .dataframe tbody tr th {\n",
       "        vertical-align: top;\n",
       "    }\n",
       "\n",
       "    .dataframe thead th {\n",
       "        text-align: right;\n",
       "    }\n",
       "</style>\n",
       "<table border=\"1\" class=\"dataframe\">\n",
       "  <thead>\n",
       "    <tr style=\"text-align: right;\">\n",
       "      <th></th>\n",
       "      <th>user_id</th>\n",
       "      <th>item_id</th>\n",
       "      <th>rating</th>\n",
       "      <th>timestamp</th>\n",
       "    </tr>\n",
       "  </thead>\n",
       "  <tbody>\n",
       "    <tr>\n",
       "      <td>0</td>\n",
       "      <td>196</td>\n",
       "      <td>242</td>\n",
       "      <td>3</td>\n",
       "      <td>881250949</td>\n",
       "    </tr>\n",
       "    <tr>\n",
       "      <td>1</td>\n",
       "      <td>186</td>\n",
       "      <td>302</td>\n",
       "      <td>3</td>\n",
       "      <td>891717742</td>\n",
       "    </tr>\n",
       "    <tr>\n",
       "      <td>2</td>\n",
       "      <td>22</td>\n",
       "      <td>377</td>\n",
       "      <td>1</td>\n",
       "      <td>878887116</td>\n",
       "    </tr>\n",
       "    <tr>\n",
       "      <td>3</td>\n",
       "      <td>244</td>\n",
       "      <td>51</td>\n",
       "      <td>2</td>\n",
       "      <td>880606923</td>\n",
       "    </tr>\n",
       "  </tbody>\n",
       "</table>\n",
       "</div>"
      ],
      "text/plain": [
       "   user_id  item_id  rating  timestamp\n",
       "0      196      242       3  881250949\n",
       "1      186      302       3  891717742\n",
       "2       22      377       1  878887116\n",
       "3      244       51       2  880606923"
      ]
     },
     "execution_count": 13,
     "metadata": {},
     "output_type": "execute_result"
    }
   ],
   "source": [
    "#need only user_ratings\n",
    "data=user_ratings\n",
    "data.head(4)"
   ]
  },
  {
   "cell_type": "code",
   "execution_count": 14,
   "metadata": {},
   "outputs": [],
   "source": [
    "import numpy as np"
   ]
  },
  {
   "cell_type": "code",
   "execution_count": 15,
   "metadata": {},
   "outputs": [],
   "source": [
    "#Create a pivot table to a wide matrix \n",
    "data_pivot = pd.pivot_table(data,values='rating',index='item_id',columns='user_id')\n",
    "data_pivot.fillna( 0, inplace = True )"
   ]
  },
  {
   "cell_type": "code",
   "execution_count": 16,
   "metadata": {},
   "outputs": [
    {
     "data": {
      "text/html": [
       "<div>\n",
       "<style scoped>\n",
       "    .dataframe tbody tr th:only-of-type {\n",
       "        vertical-align: middle;\n",
       "    }\n",
       "\n",
       "    .dataframe tbody tr th {\n",
       "        vertical-align: top;\n",
       "    }\n",
       "\n",
       "    .dataframe thead th {\n",
       "        text-align: right;\n",
       "    }\n",
       "</style>\n",
       "<table border=\"1\" class=\"dataframe\">\n",
       "  <thead>\n",
       "    <tr style=\"text-align: right;\">\n",
       "      <th></th>\n",
       "      <th>movie id</th>\n",
       "      <th>movie title</th>\n",
       "      <th>release date</th>\n",
       "      <th>video release date</th>\n",
       "      <th>IMDb URL</th>\n",
       "      <th>unknown</th>\n",
       "      <th>Action</th>\n",
       "      <th>Adventure</th>\n",
       "      <th>Animation</th>\n",
       "      <th>Children's</th>\n",
       "      <th>...</th>\n",
       "      <th>Fantasy</th>\n",
       "      <th>Film-Noir</th>\n",
       "      <th>Horror</th>\n",
       "      <th>Musical</th>\n",
       "      <th>Mystery</th>\n",
       "      <th>Romance</th>\n",
       "      <th>Sci-Fi</th>\n",
       "      <th>Thriller</th>\n",
       "      <th>War</th>\n",
       "      <th>Western</th>\n",
       "    </tr>\n",
       "  </thead>\n",
       "  <tbody>\n",
       "    <tr>\n",
       "      <td>567</td>\n",
       "      <td>568</td>\n",
       "      <td>Speed (1994)</td>\n",
       "      <td>01-Jan-1994</td>\n",
       "      <td>NaN</td>\n",
       "      <td>http://us.imdb.com/M/title-exact?Speed%20(1994/I)</td>\n",
       "      <td>0</td>\n",
       "      <td>1</td>\n",
       "      <td>0</td>\n",
       "      <td>0</td>\n",
       "      <td>0</td>\n",
       "      <td>...</td>\n",
       "      <td>0</td>\n",
       "      <td>0</td>\n",
       "      <td>0</td>\n",
       "      <td>0</td>\n",
       "      <td>0</td>\n",
       "      <td>1</td>\n",
       "      <td>0</td>\n",
       "      <td>1</td>\n",
       "      <td>0</td>\n",
       "      <td>0</td>\n",
       "    </tr>\n",
       "  </tbody>\n",
       "</table>\n",
       "<p>1 rows × 24 columns</p>\n",
       "</div>"
      ],
      "text/plain": [
       "     movie id   movie title release date  video release date  \\\n",
       "567       568  Speed (1994)  01-Jan-1994                 NaN   \n",
       "\n",
       "                                              IMDb URL  unknown  Action  \\\n",
       "567  http://us.imdb.com/M/title-exact?Speed%20(1994/I)        0       1   \n",
       "\n",
       "     Adventure  Animation  Children's  ...  Fantasy  Film-Noir  Horror  \\\n",
       "567          0          0           0  ...        0          0       0   \n",
       "\n",
       "     Musical  Mystery  Romance  Sci-Fi  Thriller  War  Western  \n",
       "567        0        0        1       0         1    0        0  \n",
       "\n",
       "[1 rows x 24 columns]"
      ]
     },
     "execution_count": 16,
     "metadata": {},
     "output_type": "execute_result"
    }
   ],
   "source": [
    "movies[movies['movie title'] == 'Speed (1994)']"
   ]
  },
  {
   "cell_type": "code",
   "execution_count": 17,
   "metadata": {
    "scrolled": false
   },
   "outputs": [
    {
     "data": {
      "text/html": [
       "<div>\n",
       "<style scoped>\n",
       "    .dataframe tbody tr th:only-of-type {\n",
       "        vertical-align: middle;\n",
       "    }\n",
       "\n",
       "    .dataframe tbody tr th {\n",
       "        vertical-align: top;\n",
       "    }\n",
       "\n",
       "    .dataframe thead th {\n",
       "        text-align: right;\n",
       "    }\n",
       "</style>\n",
       "<table border=\"1\" class=\"dataframe\">\n",
       "  <thead>\n",
       "    <tr style=\"text-align: right;\">\n",
       "      <th></th>\n",
       "      <th>collaborative</th>\n",
       "    </tr>\n",
       "    <tr>\n",
       "      <th>item_id</th>\n",
       "      <th></th>\n",
       "    </tr>\n",
       "  </thead>\n",
       "  <tbody>\n",
       "    <tr>\n",
       "      <td>82</td>\n",
       "      <td>0.721395</td>\n",
       "    </tr>\n",
       "    <tr>\n",
       "      <td>385</td>\n",
       "      <td>0.719504</td>\n",
       "    </tr>\n",
       "    <tr>\n",
       "      <td>161</td>\n",
       "      <td>0.707567</td>\n",
       "    </tr>\n",
       "    <tr>\n",
       "      <td>79</td>\n",
       "      <td>0.696583</td>\n",
       "    </tr>\n",
       "    <tr>\n",
       "      <td>96</td>\n",
       "      <td>0.695556</td>\n",
       "    </tr>\n",
       "    <tr>\n",
       "      <td>195</td>\n",
       "      <td>0.676778</td>\n",
       "    </tr>\n",
       "    <tr>\n",
       "      <td>174</td>\n",
       "      <td>0.676664</td>\n",
       "    </tr>\n",
       "    <tr>\n",
       "      <td>210</td>\n",
       "      <td>0.674811</td>\n",
       "    </tr>\n",
       "    <tr>\n",
       "      <td>550</td>\n",
       "      <td>0.674143</td>\n",
       "    </tr>\n",
       "    <tr>\n",
       "      <td>204</td>\n",
       "      <td>0.665776</td>\n",
       "    </tr>\n",
       "  </tbody>\n",
       "</table>\n",
       "</div>"
      ],
      "text/plain": [
       "         collaborative\n",
       "item_id               \n",
       "82            0.721395\n",
       "385           0.719504\n",
       "161           0.707567\n",
       "79            0.696583\n",
       "96            0.695556\n",
       "195           0.676778\n",
       "174           0.676664\n",
       "210           0.674811\n",
       "550           0.674143\n",
       "204           0.665776"
      ]
     },
     "execution_count": 17,
     "metadata": {},
     "output_type": "execute_result"
    }
   ],
   "source": [
    "from sklearn.metrics.pairwise import cosine_similarity\n",
    "\n",
    "a_1 = np.array(data_pivot.iloc[567]).reshape(1, -1)\n",
    "\n",
    " \n",
    "# calculate the similartity of this movie with the others in the list\n",
    "score_col = cosine_similarity(data_pivot, a_1).reshape(-1)\n",
    "\n",
    "\n",
    "# form a data frame of similar movies \n",
    "dictdf = {'collaborative': score_col } \n",
    "similar = pd.DataFrame(dictdf, index = data_pivot.index )\n",
    " \n",
    "#sort it on the basis of collaborative score\n",
    "similar.sort_values('collaborative', ascending=False, inplace=True)\n",
    "similar[['collaborative']][1:].head(10)\n"
   ]
  },
  {
   "cell_type": "markdown",
   "metadata": {},
   "source": [
    "IDENTIFYING AGE GROUP TO WHICH THE USERS WHO LIKE 'SPEED' BELONG TO"
   ]
  },
  {
   "cell_type": "code",
   "execution_count": null,
   "metadata": {},
   "outputs": [],
   "source": []
  },
  {
   "cell_type": "code",
   "execution_count": 18,
   "metadata": {},
   "outputs": [],
   "source": [
    "data_tmp=pd.merge(users,user_ratings,on='user_id')\n",
    "\n",
    "data_piv = pd.pivot_table(data_tmp,values='rating',index='user_id',columns='item_id')"
   ]
  },
  {
   "cell_type": "code",
   "execution_count": 19,
   "metadata": {},
   "outputs": [
    {
     "data": {
      "text/html": [
       "<div>\n",
       "<style scoped>\n",
       "    .dataframe tbody tr th:only-of-type {\n",
       "        vertical-align: middle;\n",
       "    }\n",
       "\n",
       "    .dataframe tbody tr th {\n",
       "        vertical-align: top;\n",
       "    }\n",
       "\n",
       "    .dataframe thead th {\n",
       "        text-align: right;\n",
       "    }\n",
       "</style>\n",
       "<table border=\"1\" class=\"dataframe\">\n",
       "  <thead>\n",
       "    <tr style=\"text-align: right;\">\n",
       "      <th></th>\n",
       "      <th>user_id</th>\n",
       "      <th>age</th>\n",
       "      <th>gender</th>\n",
       "      <th>occupation</th>\n",
       "      <th>zipcode</th>\n",
       "      <th>item_id</th>\n",
       "      <th>rating</th>\n",
       "      <th>timestamp</th>\n",
       "      <th>agerange</th>\n",
       "    </tr>\n",
       "  </thead>\n",
       "  <tbody>\n",
       "    <tr>\n",
       "      <td>0</td>\n",
       "      <td>1</td>\n",
       "      <td>24</td>\n",
       "      <td>M</td>\n",
       "      <td>technician</td>\n",
       "      <td>85711</td>\n",
       "      <td>61</td>\n",
       "      <td>4</td>\n",
       "      <td>878542420</td>\n",
       "      <td>18-29</td>\n",
       "    </tr>\n",
       "    <tr>\n",
       "      <td>1</td>\n",
       "      <td>1</td>\n",
       "      <td>24</td>\n",
       "      <td>M</td>\n",
       "      <td>technician</td>\n",
       "      <td>85711</td>\n",
       "      <td>189</td>\n",
       "      <td>3</td>\n",
       "      <td>888732928</td>\n",
       "      <td>18-29</td>\n",
       "    </tr>\n",
       "    <tr>\n",
       "      <td>2</td>\n",
       "      <td>1</td>\n",
       "      <td>24</td>\n",
       "      <td>M</td>\n",
       "      <td>technician</td>\n",
       "      <td>85711</td>\n",
       "      <td>33</td>\n",
       "      <td>4</td>\n",
       "      <td>878542699</td>\n",
       "      <td>18-29</td>\n",
       "    </tr>\n",
       "    <tr>\n",
       "      <td>3</td>\n",
       "      <td>1</td>\n",
       "      <td>24</td>\n",
       "      <td>M</td>\n",
       "      <td>technician</td>\n",
       "      <td>85711</td>\n",
       "      <td>160</td>\n",
       "      <td>4</td>\n",
       "      <td>875072547</td>\n",
       "      <td>18-29</td>\n",
       "    </tr>\n",
       "  </tbody>\n",
       "</table>\n",
       "</div>"
      ],
      "text/plain": [
       "   user_id  age gender  occupation zipcode  item_id  rating  timestamp  \\\n",
       "0        1   24      M  technician   85711       61       4  878542420   \n",
       "1        1   24      M  technician   85711      189       3  888732928   \n",
       "2        1   24      M  technician   85711       33       4  878542699   \n",
       "3        1   24      M  technician   85711      160       4  875072547   \n",
       "\n",
       "  agerange  \n",
       "0    18-29  \n",
       "1    18-29  \n",
       "2    18-29  \n",
       "3    18-29  "
      ]
     },
     "execution_count": 19,
     "metadata": {},
     "output_type": "execute_result"
    }
   ],
   "source": [
    "bins = [18, 30, 40, 50, 60, 70, 120]\n",
    "labels = ['18-29', '30-39', '40-49', '50-59', '60-69', '70+']\n",
    "data_tmp['agerange'] = pd.cut(data_tmp.age, bins, labels = labels,include_lowest = True)\n",
    "\n",
    "data_summary=data_tmp.groupby('agerange',as_index=True)['rating'].count()\n",
    "data_tmp.head(4)"
   ]
  },
  {
   "cell_type": "code",
   "execution_count": 23,
   "metadata": {},
   "outputs": [
    {
     "data": {
      "text/plain": [
       "array([[<matplotlib.axes._subplots.AxesSubplot object at 0x7f8f002d2860>,\n",
       "        <matplotlib.axes._subplots.AxesSubplot object at 0x7f8f0049fb00>],\n",
       "       [<matplotlib.axes._subplots.AxesSubplot object at 0x7f8f004ec3c8>,\n",
       "        <matplotlib.axes._subplots.AxesSubplot object at 0x7f8f005022b0>],\n",
       "       [<matplotlib.axes._subplots.AxesSubplot object at 0x7f8f003dbe80>,\n",
       "        <matplotlib.axes._subplots.AxesSubplot object at 0x7f8f003dbef0>]],\n",
       "      dtype=object)"
      ]
     },
     "execution_count": 23,
     "metadata": {},
     "output_type": "execute_result"
    },
    {
     "data": {
      "image/png": "[encoded data removed]",
      "text/plain": [
       "<Figure size 432x288 with 6 Axes>"
      ]
     },
     "metadata": {
      "needs_background": "light"
     },
     "output_type": "display_data"
    }
   ],
   "source": [
    "data_tmp[data_tmp['item_id']==567].hist()\n"
   ]
  },
  {
   "cell_type": "markdown",
   "metadata": {},
   "source": [
    "FROM PLOT ABOVE, USERS WHO LIKE 'SPEED' BELONG TO AGE GROUP 18-29"
   ]
  },
  {
   "cell_type": "code",
   "execution_count": null,
   "metadata": {},
   "outputs": [],
   "source": []
  }
 ],
 "metadata": {
  "kernelspec": {
   "display_name": "Python 3",
   "language": "python",
   "name": "python3"
  },
  "language_info": {
   "codemirror_mode": {
    "name": "ipython",
    "version": 3
   },
   "file_extension": ".py",
   "mimetype": "text/x-python",
   "name": "python",
   "nbconvert_exporter": "python",
   "pygments_lexer": "ipython3",
   "version": "3.7.3"
  }
 },
 "nbformat": 4,
 "nbformat_minor": 2
}
